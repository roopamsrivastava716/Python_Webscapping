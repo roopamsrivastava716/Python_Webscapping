{
 "cells": [
  {
   "cell_type": "markdown",
   "metadata": {},
   "source": [
    "#### Website: Books to Scrape (Fictional Book Store)\n",
    "#### Problem Statement 1: Get the title of every book with a two star rating\n",
    "#### Problem Statement 2: List all the categories of books available in the online store\n",
    "#### Problem Statement 3: Get the title of every book with 5 star rating while checking its in stock availability"
   ]
  },
  {
   "cell_type": "markdown",
   "metadata": {},
   "source": [
    "### Problem Statement 1"
   ]
  },
  {
   "cell_type": "code",
   "execution_count": 2,
   "metadata": {},
   "outputs": [],
   "source": [
    "import requests\n",
    "import bs4"
   ]
  },
  {
   "cell_type": "code",
   "execution_count": 4,
   "metadata": {},
   "outputs": [],
   "source": [
    "# understanding how url changes going from one page to the other; https://books.toscrape.com/catalogue/page-2.html\n",
    "#checking if url works for page 1 by changing value of page-2 to page-1: https://books.toscrape.com/catalogue/page-1.html"
   ]
  },
  {
   "cell_type": "code",
   "execution_count": 5,
   "metadata": {},
   "outputs": [],
   "source": [
    "base_url='https://books.toscrape.com/catalogue/page-{}.html'"
   ]
  },
  {
   "cell_type": "code",
   "execution_count": 6,
   "metadata": {},
   "outputs": [
    {
     "data": {
      "text/plain": [
       "'https://books.toscrape.com/catalogue/page-20.html'"
      ]
     },
     "execution_count": 6,
     "metadata": {},
     "output_type": "execute_result"
    }
   ],
   "source": [
    "base_url.format(20)"
   ]
  },
  {
   "cell_type": "code",
   "execution_count": 8,
   "metadata": {},
   "outputs": [
    {
     "data": {
      "text/plain": [
       "'https://books.toscrape.com/catalogue/page-11.html'"
      ]
     },
     "execution_count": 8,
     "metadata": {},
     "output_type": "execute_result"
    }
   ],
   "source": [
    "page_number=11\n",
    "base_url.format(page_number)\n",
    "# we can loop the scraping operation through all the pages of the website using above method"
   ]
  },
  {
   "cell_type": "code",
   "execution_count": 16,
   "metadata": {},
   "outputs": [],
   "source": [
    "#to find the tags and class of book name and star rating\n",
    "#after inspecting we find that all book information is under the class=\"product_pod\""
   ]
  },
  {
   "cell_type": "code",
   "execution_count": 10,
   "metadata": {},
   "outputs": [],
   "source": [
    "res=requests.get(base_url.format(1))"
   ]
  },
  {
   "cell_type": "code",
   "execution_count": 11,
   "metadata": {},
   "outputs": [],
   "source": [
    "soup=bs4.BeautifulSoup(res.text,\"lxml\")"
   ]
  },
  {
   "cell_type": "code",
   "execution_count": 18,
   "metadata": {},
   "outputs": [],
   "source": [
    "#soup\n",
    "products= soup.select('.product_pod')"
   ]
  },
  {
   "cell_type": "code",
   "execution_count": 21,
   "metadata": {},
   "outputs": [
    {
     "data": {
      "text/plain": [
       "'<article class=\"product_pod\">\\n<div class=\"image_container\">\\n<a href=\"a-light-in-the-attic_1000/index.html\"><img alt=\"A Light in the Attic\" class=\"thumbnail\" src=\"../media/cache/2c/da/2cdad67c44b002e7ead0cc35693c0e8b.jpg\"/></a>\\n</div>\\n<p class=\"star-rating Three\">\\n<i class=\"icon-star\"></i>\\n<i class=\"icon-star\"></i>\\n<i class=\"icon-star\"></i>\\n<i class=\"icon-star\"></i>\\n<i class=\"icon-star\"></i>\\n</p>\\n<h3><a href=\"a-light-in-the-attic_1000/index.html\" title=\"A Light in the Attic\">A Light in the ...</a></h3>\\n<div class=\"product_price\">\\n<p class=\"price_color\">Â£51.77</p>\\n<p class=\"instock availability\">\\n<i class=\"icon-ok\"></i>\\n    \\n        In stock\\n    \\n</p>\\n<form>\\n<button class=\"btn btn-primary btn-block\" data-loading-text=\"Adding...\" type=\"submit\">Add to basket</button>\\n</form>\\n</div>\\n</article>'"
      ]
     },
     "execution_count": 21,
     "metadata": {},
     "output_type": "execute_result"
    }
   ],
   "source": [
    "example=products[0]\n",
    "example\n",
    "#str(example)"
   ]
  },
  {
   "cell_type": "code",
   "execution_count": 23,
   "metadata": {},
   "outputs": [],
   "source": [
    "#Method 1 to find if star-rating Two is present in the product\n",
    "#'star-rating Two' in str(example)"
   ]
  },
  {
   "cell_type": "code",
   "execution_count": 25,
   "metadata": {},
   "outputs": [
    {
     "data": {
      "text/plain": [
       "[]"
      ]
     },
     "execution_count": 25,
     "metadata": {},
     "output_type": "execute_result"
    }
   ],
   "source": [
    "example.select('.star-rating.Two')"
   ]
  },
  {
   "cell_type": "code",
   "execution_count": 26,
   "metadata": {},
   "outputs": [
    {
     "data": {
      "text/plain": [
       "[<p class=\"star-rating Three\">\n",
       " <i class=\"icon-star\"></i>\n",
       " <i class=\"icon-star\"></i>\n",
       " <i class=\"icon-star\"></i>\n",
       " <i class=\"icon-star\"></i>\n",
       " <i class=\"icon-star\"></i>\n",
       " </p>]"
      ]
     },
     "execution_count": 26,
     "metadata": {},
     "output_type": "execute_result"
    }
   ],
   "source": [
    "example.select('.star-rating.Three')"
   ]
  },
  {
   "cell_type": "code",
   "execution_count": 32,
   "metadata": {},
   "outputs": [
    {
     "data": {
      "text/plain": [
       "<article class=\"product_pod\">\n",
       "<div class=\"image_container\">\n",
       "<a href=\"a-light-in-the-attic_1000/index.html\"><img alt=\"A Light in the Attic\" class=\"thumbnail\" src=\"../media/cache/2c/da/2cdad67c44b002e7ead0cc35693c0e8b.jpg\"/></a>\n",
       "</div>\n",
       "<p class=\"star-rating Three\">\n",
       "<i class=\"icon-star\"></i>\n",
       "<i class=\"icon-star\"></i>\n",
       "<i class=\"icon-star\"></i>\n",
       "<i class=\"icon-star\"></i>\n",
       "<i class=\"icon-star\"></i>\n",
       "</p>\n",
       "<h3><a href=\"a-light-in-the-attic_1000/index.html\" title=\"A Light in the Attic\">A Light in the ...</a></h3>\n",
       "<div class=\"product_price\">\n",
       "<p class=\"price_color\">Â£51.77</p>\n",
       "<p class=\"instock availability\">\n",
       "<i class=\"icon-ok\"></i>\n",
       "    \n",
       "        In stock\n",
       "    \n",
       "</p>\n",
       "<form>\n",
       "<button class=\"btn btn-primary btn-block\" data-loading-text=\"Adding...\" type=\"submit\">Add to basket</button>\n",
       "</form>\n",
       "</div>\n",
       "</article>"
      ]
     },
     "execution_count": 32,
     "metadata": {},
     "output_type": "execute_result"
    }
   ],
   "source": [
    "#Grabbing the book title\n",
    "example"
   ]
  },
  {
   "cell_type": "code",
   "execution_count": 28,
   "metadata": {},
   "outputs": [
    {
     "data": {
      "text/plain": [
       "[<a href=\"a-light-in-the-attic_1000/index.html\"><img alt=\"A Light in the Attic\" class=\"thumbnail\" src=\"../media/cache/2c/da/2cdad67c44b002e7ead0cc35693c0e8b.jpg\"/></a>,\n",
       " <a href=\"a-light-in-the-attic_1000/index.html\" title=\"A Light in the Attic\">A Light in the ...</a>]"
      ]
     },
     "execution_count": 28,
     "metadata": {},
     "output_type": "execute_result"
    }
   ],
   "source": [
    "example.select('a')"
   ]
  },
  {
   "cell_type": "code",
   "execution_count": 29,
   "metadata": {},
   "outputs": [
    {
     "data": {
      "text/plain": [
       "<a href=\"a-light-in-the-attic_1000/index.html\" title=\"A Light in the Attic\">A Light in the ...</a>"
      ]
     },
     "execution_count": 29,
     "metadata": {},
     "output_type": "execute_result"
    }
   ],
   "source": [
    "example.select('a')[1]"
   ]
  },
  {
   "cell_type": "code",
   "execution_count": 37,
   "metadata": {},
   "outputs": [
    {
     "data": {
      "text/plain": [
       "bs4.element.Tag"
      ]
     },
     "execution_count": 37,
     "metadata": {},
     "output_type": "execute_result"
    }
   ],
   "source": [
    "type(example.select('a')[1])\n",
    "#for tag we can access the value as a dictionary"
   ]
  },
  {
   "cell_type": "code",
   "execution_count": 31,
   "metadata": {},
   "outputs": [
    {
     "data": {
      "text/plain": [
       "'A Light in the Attic'"
      ]
     },
     "execution_count": 31,
     "metadata": {},
     "output_type": "execute_result"
    }
   ],
   "source": [
    "example.select('a')[1]['title']"
   ]
  },
  {
   "cell_type": "code",
   "execution_count": 157,
   "metadata": {},
   "outputs": [],
   "source": [
    "#Final Code\n",
    "two_star_titles=[]\n",
    "for n in range(1,51):\n",
    "    scrape_url=base_url.format(n)\n",
    "    res=requests.get(scrape_url)\n",
    "    soup=bs4.BeautifulSoup(res.text,'lxml')\n",
    "    books=soup.select('.product_pod')\n",
    "    \n",
    "    for book in books:\n",
    "        if len(book.select('.star-rating.Two'))!=0:\n",
    "            book_name=book.select('a')[1]['title']\n",
    "            two_star_titles.append(book_name)\n",
    "    \n"
   ]
  },
  {
   "cell_type": "code",
   "execution_count": 158,
   "metadata": {},
   "outputs": [
    {
     "data": {
      "text/plain": [
       "['Starving Hearts (Triangular Trade Trilogy, #1)',\n",
       " 'Libertarianism for Beginners',\n",
       " \"It's Only the Himalayas\",\n",
       " 'How Music Works',\n",
       " 'Maude (1883-1993):She Grew Up with the country',\n",
       " \"You can't bury them all: Poems\",\n",
       " 'Reasons to Stay Alive',\n",
       " 'Without Borders (Wanderlove #1)',\n",
       " 'Soul Reader',\n",
       " 'Security',\n",
       " 'Saga, Volume 5 (Saga (Collected Editions) #5)',\n",
       " 'Reskilling America: Learning to Labor in the Twenty-First Century',\n",
       " 'Political Suicide: Missteps, Peccadilloes, Bad Calls, Backroom Hijinx, Sordid Pasts, Rotten Breaks, and Just Plain Dumb Mistakes in the Annals of American Politics',\n",
       " 'Obsidian (Lux #1)',\n",
       " 'My Paris Kitchen: Recipes and Stories',\n",
       " 'Masks and Shadows',\n",
       " 'Lumberjanes, Vol. 2: Friendship to the Max (Lumberjanes #5-8)',\n",
       " 'Lumberjanes Vol. 3: A Terrible Plan (Lumberjanes #9-12)',\n",
       " 'Judo: Seven Steps to Black Belt (an Introductory Guide for Beginners)',\n",
       " 'I Hate Fairyland, Vol. 1: Madly Ever After (I Hate Fairyland (Compilations) #1-5)',\n",
       " 'Giant Days, Vol. 2 (Giant Days #5-8)',\n",
       " 'Everydata: The Misinformation Hidden in the Little Data You Consume Every Day',\n",
       " \"Don't Be a Jerk: And Other Practical Advice from Dogen, Japan's Greatest Zen Master\",\n",
       " 'Bossypants',\n",
       " 'Bitch Planet, Vol. 1: Extraordinary Machine (Bitch Planet (Collected Editions))',\n",
       " 'Avatar: The Last Airbender: Smoke and Shadow, Part 3 (Smoke and Shadow #3)',\n",
       " 'Tuesday Nights in 1980',\n",
       " 'The Psychopath Test: A Journey Through the Madness Industry',\n",
       " 'The Power of Now: A Guide to Spiritual Enlightenment',\n",
       " \"The Omnivore's Dilemma: A Natural History of Four Meals\",\n",
       " 'The Love and Lemons Cookbook: An Apple-to-Zucchini Celebration of Impromptu Cooking',\n",
       " 'The Girl on the Train',\n",
       " 'The Emerald Mystery',\n",
       " 'The Argonauts',\n",
       " 'Suddenly in Love (Lake Haven #1)',\n",
       " 'Soft Apocalypse',\n",
       " \"So You've Been Publicly Shamed\",\n",
       " 'Shoe Dog: A Memoir by the Creator of NIKE',\n",
       " 'Louisa: The Extraordinary Life of Mrs. Adams',\n",
       " 'Large Print Heart of the Pride',\n",
       " 'Grumbles',\n",
       " 'Chasing Heaven: What Dying Taught Me About Living',\n",
       " 'Becoming Wise: An Inquiry into the Mystery and Art of Living',\n",
       " 'Beauty Restored (Riley Family Legacy Novellas #3)',\n",
       " 'Batman: The Long Halloween (Batman)',\n",
       " \"Ayumi's Violin\",\n",
       " 'Wild Swans',\n",
       " \"What's It Like in Space?: Stories from Astronauts Who've Been There\",\n",
       " 'Until Friday Night (The Field Party #1)',\n",
       " 'Unbroken: A World War II Story of Survival, Resilience, and Redemption',\n",
       " 'Twenty Yawns',\n",
       " 'Through the Woods',\n",
       " 'This Is Where It Ends',\n",
       " 'The Year of Magical Thinking',\n",
       " 'The Last Mile (Amos Decker #2)',\n",
       " 'The Immortal Life of Henrietta Lacks',\n",
       " 'The Hidden Oracle (The Trials of Apollo #1)',\n",
       " 'The Guilty (Will Robie #4)',\n",
       " 'Red Hood/Arsenal, Vol. 1: Open for Business (Red Hood/Arsenal #1)',\n",
       " 'Once Was a Time',\n",
       " 'No Dream Is Too High: Life Lessons From a Man Who Walked on the Moon',\n",
       " 'Naruto (3-in-1 Edition), Vol. 14: Includes Vols. 40, 41 & 42 (Naruto: Omnibus #14)',\n",
       " 'More Than Music (Chasing the Dream #1)',\n",
       " 'Lowriders to the Center of the Earth (Lowriders in Space #2)',\n",
       " 'Eat Fat, Get Thin',\n",
       " 'Doctor Sleep (The Shining #2)',\n",
       " 'Crazy Love: Overwhelmed by a Relentless God',\n",
       " 'Carrie',\n",
       " 'Batman: Europa',\n",
       " 'Angels Walking (Angels Walking #1)',\n",
       " 'Adulthood Is a Myth: A \"Sarah\\'s Scribbles\" Collection',\n",
       " 'A Study in Scarlet (Sherlock Holmes #1)',\n",
       " 'A Series of Catastrophes and Miracles: A True Story of Love, Science, and Cancer',\n",
       " \"A People's History of the United States\",\n",
       " 'My Kitchen Year: 136 Recipes That Saved My Life',\n",
       " 'The Lonely City: Adventures in the Art of Being Alone',\n",
       " 'The Dinner Party',\n",
       " 'Stars Above (The Lunar Chronicles #4.5)',\n",
       " 'Love, Lies and Spies',\n",
       " 'Troublemaker: Surviving Hollywood and Scientology',\n",
       " 'The Widow',\n",
       " 'Setting the World on Fire: The Brief, Astonishing Life of St. Catherine of Siena',\n",
       " 'Mothering Sunday',\n",
       " 'Lilac Girls',\n",
       " '10% Happier: How I Tamed the Voice in My Head, Reduced Stress Without Losing My Edge, and Found Self-Help That Actually Works',\n",
       " 'Underlying Notes',\n",
       " 'The Flowers Lied',\n",
       " 'Modern Day Fables',\n",
       " \"Chernobyl 01:23:40: The Incredible True Story of the World's Worst Nuclear Disaster\",\n",
       " '23 Degrees South: A Tropical Tale of Changing Whether...',\n",
       " 'When Breath Becomes Air',\n",
       " 'Vagabonding: An Uncommon Guide to the Art of Long-Term World Travel',\n",
       " 'The Martian (The Martian #1)',\n",
       " \"Miller's Valley\",\n",
       " \"Love That Boy: What Two Presidents, Eight Road Trips, and My Son Taught Me About a Parent's Expectations\",\n",
       " 'Left Behind (Left Behind #1)',\n",
       " 'Howl and Other Poems',\n",
       " \"Heaven is for Real: A Little Boy's Astounding Story of His Trip to Heaven and Back\",\n",
       " \"Brazen: The Courage to Find the You That's Been Hiding\",\n",
       " '32 Yolks',\n",
       " 'Wildlife of New York: A Five-Borough Coloring Book',\n",
       " 'Unreasonable Hope: Finding Faith in the God Who Brings Purpose to Your Pain',\n",
       " 'The Art Book',\n",
       " 'Steal Like an Artist: 10 Things Nobody Told You About Being Creative',\n",
       " 'Raymie Nightingale',\n",
       " 'Like Never Before (Walker Family #2)',\n",
       " 'How to Be a Domestic Goddess: Baking and the Art of Comfort Cooking',\n",
       " 'Finding God in the Ruins: How God Redeems Pain',\n",
       " 'Chronicles, Vol. 1',\n",
       " 'A Summer In Europe',\n",
       " 'The Rise and Fall of the Third Reich: A History of Nazi Germany',\n",
       " 'The Makings of a Fatherless Child',\n",
       " 'The Fellowship of the Ring (The Lord of the Rings #1)',\n",
       " \"Tell the Wolves I'm Home\",\n",
       " 'In the Woods (Dublin Murder Squad #1)',\n",
       " 'Give It Back',\n",
       " 'Why Save the Bankers?: And Other Essays on Our Economic and Political Crisis',\n",
       " 'The Raven King (The Raven Cycle #4)',\n",
       " 'The Expatriates',\n",
       " 'The 5th Wave (The 5th Wave #1)',\n",
       " 'Peak: Secrets from the New Science of Expertise',\n",
       " 'Logan Kade (Fallen Crest High #5.5)',\n",
       " \"I Know Why the Caged Bird Sings (Maya Angelou's Autobiography #1)\",\n",
       " 'Drama',\n",
       " \"America's War for the Greater Middle East: A Military History\",\n",
       " 'A Game of Thrones (A Song of Ice and Fire #1)',\n",
       " \"The Pilgrim's Progress\",\n",
       " 'The Hound of the Baskervilles (Sherlock Holmes #5)',\n",
       " \"The Geography of Bliss: One Grump's Search for the Happiest Places in the World\",\n",
       " 'The Demonists (Demonist #1)',\n",
       " 'The Demon Prince of Momochi House, Vol. 4 (The Demon Prince of Momochi House #4)',\n",
       " 'Misery',\n",
       " 'Far From True (Promise Falls Trilogy #2)',\n",
       " 'Confessions of a Shopaholic (Shopaholic #1)',\n",
       " 'Vegan Vegetarian Omnivore: Dinner for Everyone at the Table',\n",
       " 'Two Boys Kissing',\n",
       " 'Twilight (Twilight #1)',\n",
       " 'Twenties Girl',\n",
       " 'The Tipping Point: How Little Things Can Make a Big Difference',\n",
       " 'The Stand',\n",
       " 'The Picture of Dorian Gray',\n",
       " 'The Name of God is Mercy',\n",
       " \"The Lover's Dictionary\",\n",
       " 'The Last Painting of Sara de Vos',\n",
       " 'The Guns of August',\n",
       " 'The Girl Who Played with Fire (Millennium Trilogy #2)',\n",
       " 'The Da Vinci Code (Robert Langdon #2)',\n",
       " 'The Cat in the Hat (Beginner Books B-1)',\n",
       " 'The Book Thief',\n",
       " 'The Autobiography of Malcolm X',\n",
       " \"Surely You're Joking, Mr. Feynman!: Adventures of a Curious Character\",\n",
       " 'Soldier (Talon #3)',\n",
       " 'Shopaholic & Baby (Shopaholic #5)',\n",
       " 'Seven Days in the Art World',\n",
       " 'Rework',\n",
       " 'Packing for Mars: The Curious Science of Life in the Void',\n",
       " 'Orange Is the New Black',\n",
       " 'One for the Money (Stephanie Plum #1)',\n",
       " 'Midnight Riot (Peter Grant/ Rivers of London - books #1)',\n",
       " 'Me Talk Pretty One Day',\n",
       " 'Manuscript Found in Accra',\n",
       " 'Lust & Wonder',\n",
       " \"Life, the Universe and Everything (Hitchhiker's Guide to the Galaxy #3)\",\n",
       " 'Life After Life',\n",
       " 'I Am Malala: The Girl Who Stood Up for Education and Was Shot by the Taliban',\n",
       " 'House of Lost Worlds: Dinosaurs, Dynasties, and the Story of Life on Earth',\n",
       " 'Horrible Bear!',\n",
       " 'Holidays on Ice',\n",
       " 'Girl in the Blue Coat',\n",
       " 'Fruits Basket, Vol. 3 (Fruits Basket #3)',\n",
       " 'Cosmos',\n",
       " 'Civilization and Its Discontents',\n",
       " \"Catastrophic Happiness: Finding Joy in Childhood's Messy Years\",\n",
       " 'Career of Evil (Cormoran Strike #3)',\n",
       " 'Born to Run: A Hidden Tribe, Superathletes, and the Greatest Race the World Has Never Seen',\n",
       " \"Best of My Love (Fool's Gold #20)\",\n",
       " 'Beowulf',\n",
       " 'Awkward',\n",
       " 'And Then There Were None',\n",
       " 'A Storm of Swords (A Song of Ice and Fire #3)',\n",
       " 'The Suffragettes (Little Black Classics, #96)',\n",
       " 'Vampire Girl (Vampire Girl #1)',\n",
       " 'Three Wishes (River of Time: California #1)',\n",
       " 'The Wicked + The Divine, Vol. 1: The Faust Act (The Wicked + The Divine)',\n",
       " 'The Little Prince',\n",
       " 'The Last Girl (The Dominion Trilogy #1)',\n",
       " 'Taking Shots (Assassins #1)',\n",
       " 'Settling the Score (The Summer Games #1)',\n",
       " 'Rhythm, Chord & Malykhin',\n",
       " 'One Second (Seven #7)',\n",
       " \"Old Records Never Die: One Man's Quest for His Vinyl and His Past\",\n",
       " 'Of Mice and Men',\n",
       " 'My Perfect Mistake (Over the Top #1)',\n",
       " 'Meditations',\n",
       " 'Frankenstein',\n",
       " 'Emma']"
      ]
     },
     "execution_count": 158,
     "metadata": {},
     "output_type": "execute_result"
    }
   ],
   "source": [
    "two_star_titles"
   ]
  },
  {
   "cell_type": "code",
   "execution_count": 159,
   "metadata": {},
   "outputs": [
    {
     "data": {
      "text/plain": [
       "196"
      ]
     },
     "execution_count": 159,
     "metadata": {},
     "output_type": "execute_result"
    }
   ],
   "source": [
    "len(two_star_titles)"
   ]
  },
  {
   "cell_type": "code",
   "execution_count": null,
   "metadata": {},
   "outputs": [],
   "source": []
  },
  {
   "cell_type": "markdown",
   "metadata": {},
   "source": [
    "#### Problem Statement 2: List all the categories of books available in the online store"
   ]
  },
  {
   "cell_type": "code",
   "execution_count": 39,
   "metadata": {},
   "outputs": [],
   "source": [
    "res2=requests.get('https://books.toscrape.com/catalogue/category/books_1/index.html')"
   ]
  },
  {
   "cell_type": "code",
   "execution_count": 41,
   "metadata": {},
   "outputs": [],
   "source": [
    "soup2=bs4.BeautifulSoup(res2.text,'lxml')"
   ]
  },
  {
   "cell_type": "code",
   "execution_count": 80,
   "metadata": {},
   "outputs": [],
   "source": [
    "example2=soup2.select('.nav.nav-list')\n",
    "data=(example2)[0]('a')"
   ]
  },
  {
   "cell_type": "code",
   "execution_count": 81,
   "metadata": {},
   "outputs": [],
   "source": [
    "new_list=[]\n",
    "for i in range(1,51):\n",
    "    val=data[i].text\n",
    "    new_list.append(val)\n",
    "    "
   ]
  },
  {
   "cell_type": "code",
   "execution_count": 91,
   "metadata": {},
   "outputs": [
    {
     "data": {
      "text/plain": [
       "'\\n                            \\n                                Mystery\\n                            \\n                        '"
      ]
     },
     "execution_count": 91,
     "metadata": {},
     "output_type": "execute_result"
    }
   ],
   "source": [
    "new_list[1]\n"
   ]
  },
  {
   "cell_type": "code",
   "execution_count": 155,
   "metadata": {},
   "outputs": [
    {
     "name": "stdout",
     "output_type": "stream",
     "text": [
      "['Travel', 'Mystery', 'Historical Fiction', 'Sequential Art', 'Classics', 'Philosophy', 'Romance', 'Womens Fiction', 'Fiction', 'Childrens', 'Religion', 'Nonfiction', 'Music', 'Default', 'Science Fiction', 'Sports and Games', 'Add a comment', 'Fantasy', 'New Adult', 'Young Adult', 'Science', 'Poetry', 'Paranormal', 'Art', 'Psychology', 'Autobiography', 'Parenting', 'Adult Fiction', 'Humor', 'Horror', 'History', 'Food and Drink', 'Christian Fiction', 'Business', 'Biography', 'Thriller', 'Contemporary', 'Spirituality', 'Academic', 'Self Help', 'Historical', 'Christian', 'Suspense', 'Short Stories', 'Novels', 'Health', 'Politics', 'Cultural', 'Erotica', 'Crime']\n"
     ]
    }
   ],
   "source": [
    "#removing spaces and tabs\n",
    "converted_list = []\n",
    "\n",
    "for element in new_list:\n",
    "    converted_list.append(element.strip())\n",
    "\n",
    "print(converted_list)"
   ]
  },
  {
   "cell_type": "code",
   "execution_count": 160,
   "metadata": {},
   "outputs": [
    {
     "name": "stdout",
     "output_type": "stream",
     "text": [
      "50\n",
      "['Travel', 'Mystery', 'Historical Fiction', 'Sequential Art', 'Classics', 'Philosophy', 'Romance', 'Womens Fiction', 'Fiction', 'Childrens', 'Religion', 'Nonfiction', 'Music', 'Default', 'Science Fiction', 'Sports and Games', 'Add a comment', 'Fantasy', 'New Adult', 'Young Adult', 'Science', 'Poetry', 'Paranormal', 'Art', 'Psychology', 'Autobiography', 'Parenting', 'Adult Fiction', 'Humor', 'Horror', 'History', 'Food and Drink', 'Christian Fiction', 'Business', 'Biography', 'Thriller', 'Contemporary', 'Spirituality', 'Academic', 'Self Help', 'Historical', 'Christian', 'Suspense', 'Short Stories', 'Novels', 'Health', 'Politics', 'Cultural', 'Erotica', 'Crime']\n"
     ]
    }
   ],
   "source": [
    "print(len(converted_list))\n",
    "print(converted_list)"
   ]
  },
  {
   "cell_type": "code",
   "execution_count": null,
   "metadata": {},
   "outputs": [],
   "source": []
  },
  {
   "cell_type": "markdown",
   "metadata": {},
   "source": [
    "#### Problem Statement 3: Get the title of every book with 5 star rating which is in stock"
   ]
  },
  {
   "cell_type": "code",
   "execution_count": 96,
   "metadata": {},
   "outputs": [],
   "source": [
    "import requests\n",
    "import bs4"
   ]
  },
  {
   "cell_type": "code",
   "execution_count": 97,
   "metadata": {},
   "outputs": [
    {
     "data": {
      "text/plain": [
       "'https://books.toscrape.com/catalogue/page-20.html'"
      ]
     },
     "execution_count": 97,
     "metadata": {},
     "output_type": "execute_result"
    }
   ],
   "source": [
    "base_url='https://books.toscrape.com/catalogue/page-{}.html'\n",
    "base_url.format(20)"
   ]
  },
  {
   "cell_type": "code",
   "execution_count": 99,
   "metadata": {},
   "outputs": [],
   "source": [
    "result=requests.get(base_url.format(1))"
   ]
  },
  {
   "cell_type": "code",
   "execution_count": 100,
   "metadata": {},
   "outputs": [],
   "source": [
    "soup=bs4.BeautifulSoup(result.text,'lxml')"
   ]
  },
  {
   "cell_type": "code",
   "execution_count": 108,
   "metadata": {},
   "outputs": [],
   "source": [
    "books=soup.select(\".product_pod\")"
   ]
  },
  {
   "cell_type": "code",
   "execution_count": 109,
   "metadata": {},
   "outputs": [
    {
     "data": {
      "text/plain": [
       "list"
      ]
     },
     "execution_count": 109,
     "metadata": {},
     "output_type": "execute_result"
    }
   ],
   "source": [
    "type(books)"
   ]
  },
  {
   "cell_type": "code",
   "execution_count": 161,
   "metadata": {},
   "outputs": [
    {
     "data": {
      "text/plain": [
       "'Frankenstein'"
      ]
     },
     "execution_count": 161,
     "metadata": {},
     "output_type": "execute_result"
    }
   ],
   "source": [
    "#Grabbing the title of each book\n",
    "book=books[0]\n",
    "book.select('a')[1]['title']\n"
   ]
  },
  {
   "cell_type": "code",
   "execution_count": 153,
   "metadata": {},
   "outputs": [
    {
     "data": {
      "text/plain": [
       "True"
      ]
     },
     "execution_count": 153,
     "metadata": {},
     "output_type": "execute_result"
    }
   ],
   "source": [
    "# checking availability of book\n",
    "available=book.select('.instock.availability')\n",
    "'In stock' in str(available[0])"
   ]
  },
  {
   "cell_type": "code",
   "execution_count": 154,
   "metadata": {},
   "outputs": [],
   "source": [
    "#Final Code\n",
    "product_list=[]\n",
    "for page in range(1,51):\n",
    "    result=requests.get(base_url.format(page))\n",
    "    soup=bs4.BeautifulSoup(result.text,'lxml')\n",
    "    books=soup.select(\".product_pod\")\n",
    "    for book in books:\n",
    "        if len(book.select('.star-rating.Five'))!=0:\n",
    "            availabile=book.select('.instock.availability')\n",
    "            if ('In stock' in str(available[0]))==True:\n",
    "                book_name=book.select('a')[1]['title']\n",
    "                product_list.append(book_name)\n",
    "            \n",
    "    \n",
    "    "
   ]
  },
  {
   "cell_type": "code",
   "execution_count": 151,
   "metadata": {},
   "outputs": [
    {
     "data": {
      "text/plain": [
       "['Sapiens: A Brief History of Humankind',\n",
       " 'Set Me Free',\n",
       " \"Scott Pilgrim's Precious Little Life (Scott Pilgrim #1)\",\n",
       " 'Rip it Up and Start Again',\n",
       " 'Chase Me (Paris Nights #2)',\n",
       " 'Black Dust',\n",
       " 'Worlds Elsewhere: Journeys Around Shakespeareâ\\x80\\x99s Globe',\n",
       " 'The Four Agreements: A Practical Guide to Personal Freedom',\n",
       " 'The Elephant Tree',\n",
       " \"Sophie's World\",\n",
       " 'Private Paris (Private #10)',\n",
       " '#HigherSelfie: Wake Up Your Life. Free Your Soul. Find Your Tribe.',\n",
       " 'We Love You, Charlie Freeman',\n",
       " 'Thirst',\n",
       " 'The Inefficiency Assassin: Time Management Tactics for Working Smarter, Not Longer',\n",
       " \"The Activist's Tao Te Ching: Ancient Advice for a Modern Revolution\",\n",
       " 'Princess Jellyfish 2-in-1 Omnibus, Vol. 01 (Princess Jellyfish 2-in-1 Omnibus #1)',\n",
       " 'Princess Between Worlds (Wide-Awake Princess #5)',\n",
       " 'Join',\n",
       " 'Immunity: How Elie Metchnikoff Changed the Course of Modern Medicine',\n",
       " 'Call the Nurse: True Stories of a Country Nurse on a Scottish Isle',\n",
       " 'A Piece of Sky, a Grain of Rice: A Memoir in Four Meditations',\n",
       " 'A Flight of Arrows (The Pathfinders #2)',\n",
       " '(Un)Qualified: How God Uses Broken People to Do Big Things',\n",
       " 'The Third Wave: An Entrepreneurâ\\x80\\x99s Vision of the Future',\n",
       " 'The Regional Office Is Under Attack!',\n",
       " 'The Nerdy Nummies Cookbook: Sweet Treats for the Geek in All of Us',\n",
       " \"The Artist's Way: A Spiritual Path to Higher Creativity\",\n",
       " 'The Art of War',\n",
       " 'Scarlett Epstein Hates It Here',\n",
       " 'Redeeming Love',\n",
       " 'Mrs. Houdini',\n",
       " 'Modern Romance',\n",
       " 'Library of Souls (Miss Peregrineâ\\x80\\x99s Peculiar Children #3)',\n",
       " 'Frostbite (Vampire Academy #2)',\n",
       " 'Finders Keepers (Bill Hodges Trilogy #2)',\n",
       " 'Done Rubbed Out (Reightman & Bailey #1)',\n",
       " 'Dark Notes',\n",
       " 'Batman: The Dark Knight Returns (Batman)',\n",
       " 'Amatus',\n",
       " 'Agnostic: A Spirited Manifesto',\n",
       " 'You (You #1)',\n",
       " \"Walt Disney's Alice in Wonderland\",\n",
       " \"The White Queen (The Cousins' War #1)\",\n",
       " 'The Time Keeper',\n",
       " 'The Star-Touched Queen',\n",
       " 'The Songs of the Gods',\n",
       " 'The Song of Achilles',\n",
       " 'The Darkest Lie',\n",
       " 'Superman Vol. 1: Before Truth (Superman by Gene Luen Yang #1)',\n",
       " 'Steve Jobs',\n",
       " 'Someone Like You (The Harrisons #2)',\n",
       " 'Quarter Life Poetry: Poems for the Young, Broke and Hangry',\n",
       " 'Old School (Diary of a Wimpy Kid #10)',\n",
       " 'Made to Stick: Why Some Ideas Survive and Others Die',\n",
       " 'Looking for Lovely: Collecting the Moments that Matter',\n",
       " 'Let It Out: A Journey Through Journaling',\n",
       " 'Lady Midnight (The Dark Artifices #1)',\n",
       " 'Hyperbole and a Half: Unfortunate Situations, Flawed Coping Mechanisms, Mayhem, and Other Things That Happened',\n",
       " 'Greek Mythic History',\n",
       " 'God: The Most Unpleasant Character in All Fiction',\n",
       " 'El Deafo',\n",
       " 'Eaternity: More than 150 Deliciously Easy Vegan Recipes for a Long, Healthy, Satisfied, Joyful Life',\n",
       " 'Demigods & Magicians: Percy and Annabeth Meet the Kanes (Percy Jackson & Kane Chronicles Crossover #1-3)',\n",
       " 'Dear Mr. Knightley',\n",
       " 'Brain on Fire: My Month of Madness',\n",
       " \"Barefoot Contessa at Home: Everyday Recipes You'll Make Over and Over Again\",\n",
       " 'All the Light We Cannot See',\n",
       " 'Abstract City',\n",
       " 'A Time of Torment (Charlie Parker #14)',\n",
       " 'The Star-Touched Queen',\n",
       " 'The Silent Sister (Riley MacPherson #1)',\n",
       " 'The Epidemic (The Program 0.6)',\n",
       " 'Psycho: Sanitarium (Psycho #1.5)',\n",
       " 'How to Speak Golf: An Illustrated Guide to Links Lingo',\n",
       " 'Everyday Italian: 125 Simple and Delicious Recipes',\n",
       " 'Eleanor & Park',\n",
       " 'Mother, Can You Not?',\n",
       " 'Born for This: How to Find the Work You Were Meant to Do',\n",
       " 'Adultery',\n",
       " \"A Gentleman's Position (Society of Gentlemen #3)\",\n",
       " '10-Day Green Smoothie Cleanse: Lose Up to 15 Pounds in 10 Days!',\n",
       " 'Without Shame',\n",
       " 'The New Brand You: Your New Image Makes the Sale for You',\n",
       " 'The Art and Science of Low Carbohydrate Living',\n",
       " 'Suzie Snowflake: One beautiful flake (a self-esteem story)',\n",
       " 'The Unlikely Pilgrimage of Harold Fry (Harold Fry #1)',\n",
       " 'Smarter Faster Better: The Secrets of Being Productive in Life and Business',\n",
       " 'Shadows of the Past (Logan Point #1)',\n",
       " 'Roller Girl',\n",
       " 'Out of Print: City Lights Spotlight No. 14',\n",
       " 'My Life Next Door (My Life Next Door )',\n",
       " 'Les Fleurs du Mal',\n",
       " \"Kill 'Em and Leave: Searching for James Brown and the American Soul\",\n",
       " 'Future Shock (Future Shock #1)',\n",
       " '\"Most Blessed of the Patriarchs\": Thomas Jefferson and the Empire of the Imagination',\n",
       " 'What Happened on Beale Street (Secrets of the South Mysteries #2)',\n",
       " \"The Bachelor Girl's Guide to Murder (Herringford and Watts Mysteries #1)\",\n",
       " 'Team of Rivals: The Political Genius of Abraham Lincoln',\n",
       " 'Naturally Lean: 125 Nourishing Gluten-Free, Plant-Based Recipes--All Under 300 Calories',\n",
       " 'Leave This Song Behind: Teen Poetry at Its Best',\n",
       " \"King's Folly (The Kinsman Chronicles #1)\",\n",
       " 'Good in Bed (Cannie Shapiro #1)',\n",
       " 'Every Heart a Doorway (Every Heart A Doorway #1)',\n",
       " 'Counted With the Stars (Out from Egypt #1)',\n",
       " 'At The Existentialist CafÃ©: Freedom, Being, and apricot cocktails with: Jean-Paul Sartre, Simone de Beauvoir, Albert Camus, Martin Heidegger, Edmund Husserl, Karl Jaspers, Maurice Merleau-Ponty and others',\n",
       " 'A Short History of Nearly Everything',\n",
       " 'The Sound Of Love',\n",
       " 'The Hobbit (Middle-Earth Universe)',\n",
       " 'The Collected Poems of W.B. Yeats (The Collected Works of W.B. Yeats #1)',\n",
       " 'The Barefoot Contessa Cookbook',\n",
       " 'How to Stop Worrying and Start Living',\n",
       " 'The Power Greens Cookbook: 140 Delicious Superfood Recipes',\n",
       " \"The Mathews Men: Seven Brothers and the War Against Hitler's U-boats\",\n",
       " 'The False Prince (The Ascendance Trilogy #1)',\n",
       " 'The Darkest Corners',\n",
       " 'Siddhartha',\n",
       " 'Shiver (The Wolves of Mercy Falls #1)',\n",
       " 'Mexican Today: New and Rediscovered Recipes for Contemporary Kitchens',\n",
       " 'Kill the Boy Band',\n",
       " 'Isla and the Happily Ever After (Anna and the French Kiss #3)',\n",
       " 'If I Stay (If I Stay #1)',\n",
       " 'Dracula the Un-Dead',\n",
       " 'Digital Fortress',\n",
       " 'Booked',\n",
       " 'Blue Lily, Lily Blue (The Raven Cycle #3)',\n",
       " 'Approval Junkie: Adventures in Caring Too Much',\n",
       " 'An Abundance of Katherines',\n",
       " 'The Passion of Dolssa',\n",
       " 'The Hunger Games (The Hunger Games #1)',\n",
       " 'The Beast (Black Dagger Brotherhood #14)',\n",
       " 'Some Women',\n",
       " 'Shopaholic Ties the Knot (Shopaholic #3)',\n",
       " 'Paper and Fire (The Great Library #2)',\n",
       " 'Outlander (Outlander #1)',\n",
       " 'No One Here Gets Out Alive',\n",
       " 'Harry Potter and the Half-Blood Prince (Harry Potter #6)',\n",
       " 'Atlas Shrugged',\n",
       " \"A New Earth: Awakening to Your Life's Purpose\",\n",
       " 'When You Are Engulfed in Flames',\n",
       " 'Voyager (Outlander #3)',\n",
       " 'The Silkworm (Cormoran Strike #2)',\n",
       " 'The Sandman, Vol. 3: Dream Country (The Sandman (volumes) #3)',\n",
       " 'The Red Tent',\n",
       " 'The Nanny Diaries (Nanny #1)',\n",
       " 'The Lonely Ones',\n",
       " \"The Husband's Secret\",\n",
       " 'The Disappearing Spoon: And Other True Tales of Madness, Love, and the History of the World from the Periodic Table of the Elements',\n",
       " 'The Day the Crayons Came Home (Crayons)',\n",
       " 'The Complete Poems',\n",
       " 'The Book of Basketball: The NBA According to The Sports Guy',\n",
       " 'The Blind Side: Evolution of a Game',\n",
       " 'Something Borrowed (Darcy & Rachel #1)',\n",
       " 'Saga, Volume 3 (Saga (Collected Editions) #3)',\n",
       " 'Life Without a Recipe',\n",
       " \"Lamb: The Gospel According to Biff, Christ's Childhood Pal\",\n",
       " 'Lady Renegades (Rebel Belle #3)',\n",
       " 'Into the Wild',\n",
       " 'Inferno (Robert Langdon #4)',\n",
       " 'Gratitude',\n",
       " 'Gone Girl',\n",
       " 'Fifty Shades Freed (Fifty Shades #3)',\n",
       " 'Disrupted: My Misadventure in the Start-Up Bubble',\n",
       " 'Dead Wake: The Last Crossing of the Lusitania',\n",
       " 'Dark Places',\n",
       " 'Crazy Rich Asians (Crazy Rich Asians #1)',\n",
       " 'Breaking Dawn (Twilight #4)',\n",
       " 'Brave Enough',\n",
       " 'Blink: The Power of Thinking Without Thinking',\n",
       " 'Between Shades of Gray',\n",
       " 'Beautiful Creatures (Caster Chronicles #1)',\n",
       " 'Annie on My Mind',\n",
       " 'A Visit from the Goon Squad',\n",
       " 'A Heartbreaking Work of Staggering Genius',\n",
       " 'Life',\n",
       " 'H is for Hawk',\n",
       " 'Fruits Basket, Vol. 2 (Fruits Basket #2)',\n",
       " 'While You Were Mine',\n",
       " 'Ways of Seeing',\n",
       " 'Travels with Charley: In Search of America',\n",
       " 'The Zombie Room',\n",
       " 'The Tumor',\n",
       " 'The Silent Wife',\n",
       " 'The Hook Up (Game On #1)',\n",
       " 'The Haters',\n",
       " 'The Girl You Lost',\n",
       " 'Rat Queens, Vol. 1: Sass & Sorcery (Rat Queens (Collected Editions) #1-5)',\n",
       " 'Off Sides (Off #1)',\n",
       " 'Kitchens of the Great Midwest',\n",
       " 'Jane Eyre',\n",
       " 'Fruits Basket, Vol. 1 (Fruits Basket #1)',\n",
       " 'Deep Under (Walker Security #1)',\n",
       " 'Bright Lines',\n",
       " 'Bleach, Vol. 1: Strawberry and the Soul Reapers (Bleach #1)',\n",
       " \"A Spy's Devotion (The Regency Spies of London #1)\",\n",
       " '1,000 Places to See Before You Die']"
      ]
     },
     "execution_count": 151,
     "metadata": {},
     "output_type": "execute_result"
    }
   ],
   "source": [
    "product_list"
   ]
  },
  {
   "cell_type": "code",
   "execution_count": null,
   "metadata": {},
   "outputs": [],
   "source": []
  }
 ],
 "metadata": {
  "kernelspec": {
   "display_name": "Python 3",
   "language": "python",
   "name": "python3"
  },
  "language_info": {
   "codemirror_mode": {
    "name": "ipython",
    "version": 3
   },
   "file_extension": ".py",
   "mimetype": "text/x-python",
   "name": "python",
   "nbconvert_exporter": "python",
   "pygments_lexer": "ipython3",
   "version": "3.7.3"
  }
 },
 "nbformat": 4,
 "nbformat_minor": 2
}
